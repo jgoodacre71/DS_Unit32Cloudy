{
 "metadata": {
  "name": "",
  "signature": "sha256:7bb3fa4efb137e03dba9ba4eec09da07290f9196e4f47ed8372c56ce63886b98"
 },
 "nbformat": 3,
 "nbformat_minor": 0,
 "worksheets": []
}