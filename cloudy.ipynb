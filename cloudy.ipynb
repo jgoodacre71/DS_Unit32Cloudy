{
 "metadata": {
  "name": "",
  "signature": "sha256:bc14340e44b5b4700f95a563d8bea7b054cad4c189c1415dcdccbd954e3364aa"
 },
 "nbformat": 3,
 "nbformat_minor": 0,
 "worksheets": [
  {
   "cells": [
    {
     "cell_type": "code",
     "collapsed": false,
     "input": [
      "cities = { \"Atlanta\": '33.762909,-84.422675',\n",
      "            \"Austin\": '30.303936,-97.754355',\n",
      "            \"Boston\": '42.331960,-71.020173',\n",
      "            \"Chicago\": '41.837551,-87.681844',\n",
      "            \"Cleveland\": '41.478462,-81.679435'\n",
      "        }\n",
      "\n",
      "\n",
      "https://api.forecast.io/forecast/APIKEY/LATITUDE,LONGITUDE,TIME"
     ],
     "language": "python",
     "metadata": {},
     "outputs": [],
     "prompt_number": 1
    },
    {
     "cell_type": "code",
     "collapsed": false,
     "input": [
      "import requests\n",
      "import sqlite3 as lite\n",
      "import datetime\n",
      "\n",
      "api_key = \"a1d9d1bb210da8a54ee0b0580e917c92\"\n",
      "url = 'https://api.forecast.io/forecast/' + api_key\n",
      "\n",
      "cities = { \"Atlanta\": '33.762909,-84.422675',\n",
      "            \"Austin\": '30.303936,-97.754355',\n",
      "            \"Boston\": '42.331960,-71.020173',\n",
      "            \"Chicago\": '41.837551,-87.681844',\n",
      "            \"Cleveland\": '41.478462,-81.679435'\n",
      "        }"
     ],
     "language": "python",
     "metadata": {},
     "outputs": [],
     "prompt_number": 2
    },
    {
     "cell_type": "code",
     "collapsed": false,
     "input": [
      "end_date = datetime.datetime.now()"
     ],
     "language": "python",
     "metadata": {},
     "outputs": [],
     "prompt_number": 3
    },
    {
     "cell_type": "code",
     "collapsed": false,
     "input": [
      "con = lite.connect('weather.db')\n",
      "cur = con.cursor()"
     ],
     "language": "python",
     "metadata": {},
     "outputs": [],
     "prompt_number": 4
    },
    {
     "cell_type": "code",
     "collapsed": false,
     "input": [
      "cities.keys()\n",
      "with con:\n",
      "    cur.execute('CREATE TABLE daily_temp ( day_of_reading INT, Atlanta REAL, Austin REAL, Boston REAL, Chicago REAL, Cleveland REAL);')"
     ],
     "language": "python",
     "metadata": {},
     "outputs": [],
     "prompt_number": 5
    },
    {
     "cell_type": "code",
     "collapsed": false,
     "input": [
      "query_date = end_date - datetime.timedelta(days=30)\n",
      "\n",
      "with con:\n",
      "    while query_date < end_date:\n",
      "        cur.execute(\"INSERT INTO daily_temp(day_of_reading) VALUES (?)\", (int(query_date.strftime('%s')),))\n",
      "        query_date += datetime.timedelta(days=1)"
     ],
     "language": "python",
     "metadata": {},
     "outputs": [],
     "prompt_number": 6
    },
    {
     "cell_type": "code",
     "collapsed": false,
     "input": [
      "for k,v in cities.iteritems():\n",
      "    query_date = end_date - datetime.timedelta(days=30) #set value each time through the loop of cities\n",
      "    while query_date < end_date:\n",
      "        #query for the value\n",
      "        print url +'/'+ v + ',' +  query_date.strftime('%Y-%m-%dT12:00:00')\n",
      "        r = requests.get(url +'/'+ v + ',' +  query_date.strftime('%Y-%m-%dT12:00:00'))\n",
      "       \n",
      "\n",
      "        with con:\n",
      "            #insert the temperature max to the database\n",
      "            cur.execute('UPDATE daily_temp SET ' + k + ' = ' + str(r.json()['daily']['data'][0]['temperatureMax']) + ' WHERE day_of_reading = ' + query_date.strftime('%s'))\n",
      "\n",
      "        #increment query_date to the next day for next operation of loop\n",
      "        query_date += datetime.timedelta(days=1) #increment query_date to the next day\n",
      "\n",
      "\n",
      "con.close() "
     ],
     "language": "python",
     "metadata": {},
     "outputs": [
      {
       "output_type": "stream",
       "stream": "stdout",
       "text": [
        "https://api.forecast.io/forecast/a1d9d1bb210da8a54ee0b0580e917c92/42.331960,-71.020173,2015-02-12T12:00:00\n",
        "https://api.forecast.io/forecast/a1d9d1bb210da8a54ee0b0580e917c92/42.331960,-71.020173,2015-02-13T12:00:00"
       ]
      },
      {
       "output_type": "stream",
       "stream": "stdout",
       "text": [
        "\n",
        "https://api.forecast.io/forecast/a1d9d1bb210da8a54ee0b0580e917c92/42.331960,-71.020173,2015-02-14T12:00:00"
       ]
      },
      {
       "output_type": "stream",
       "stream": "stdout",
       "text": [
        "\n",
        "https://api.forecast.io/forecast/a1d9d1bb210da8a54ee0b0580e917c92/42.331960,-71.020173,2015-02-15T12:00:00"
       ]
      },
      {
       "output_type": "stream",
       "stream": "stdout",
       "text": [
        "\n",
        "https://api.forecast.io/forecast/a1d9d1bb210da8a54ee0b0580e917c92/42.331960,-71.020173,2015-02-16T12:00:00"
       ]
      },
      {
       "output_type": "stream",
       "stream": "stdout",
       "text": [
        "\n",
        "https://api.forecast.io/forecast/a1d9d1bb210da8a54ee0b0580e917c92/42.331960,-71.020173,2015-02-17T12:00:00"
       ]
      },
      {
       "output_type": "stream",
       "stream": "stdout",
       "text": [
        "\n",
        "https://api.forecast.io/forecast/a1d9d1bb210da8a54ee0b0580e917c92/42.331960,-71.020173,2015-02-18T12:00:00"
       ]
      },
      {
       "output_type": "stream",
       "stream": "stdout",
       "text": [
        "\n",
        "https://api.forecast.io/forecast/a1d9d1bb210da8a54ee0b0580e917c92/42.331960,-71.020173,2015-02-19T12:00:00"
       ]
      },
      {
       "output_type": "stream",
       "stream": "stdout",
       "text": [
        "\n",
        "https://api.forecast.io/forecast/a1d9d1bb210da8a54ee0b0580e917c92/42.331960,-71.020173,2015-02-20T12:00:00"
       ]
      },
      {
       "output_type": "stream",
       "stream": "stdout",
       "text": [
        "\n",
        "https://api.forecast.io/forecast/a1d9d1bb210da8a54ee0b0580e917c92/42.331960,-71.020173,2015-02-21T12:00:00"
       ]
      },
      {
       "output_type": "stream",
       "stream": "stdout",
       "text": [
        "\n",
        "https://api.forecast.io/forecast/a1d9d1bb210da8a54ee0b0580e917c92/42.331960,-71.020173,2015-02-22T12:00:00"
       ]
      },
      {
       "output_type": "stream",
       "stream": "stdout",
       "text": [
        "\n",
        "https://api.forecast.io/forecast/a1d9d1bb210da8a54ee0b0580e917c92/42.331960,-71.020173,2015-02-23T12:00:00"
       ]
      },
      {
       "output_type": "stream",
       "stream": "stdout",
       "text": [
        "\n",
        "https://api.forecast.io/forecast/a1d9d1bb210da8a54ee0b0580e917c92/42.331960,-71.020173,2015-02-24T12:00:00"
       ]
      },
      {
       "output_type": "stream",
       "stream": "stdout",
       "text": [
        "\n",
        "https://api.forecast.io/forecast/a1d9d1bb210da8a54ee0b0580e917c92/42.331960,-71.020173,2015-02-25T12:00:00"
       ]
      },
      {
       "output_type": "stream",
       "stream": "stdout",
       "text": [
        "\n",
        "https://api.forecast.io/forecast/a1d9d1bb210da8a54ee0b0580e917c92/42.331960,-71.020173,2015-02-26T12:00:00"
       ]
      },
      {
       "output_type": "stream",
       "stream": "stdout",
       "text": [
        "\n",
        "https://api.forecast.io/forecast/a1d9d1bb210da8a54ee0b0580e917c92/42.331960,-71.020173,2015-02-27T12:00:00"
       ]
      },
      {
       "output_type": "stream",
       "stream": "stdout",
       "text": [
        "\n",
        "https://api.forecast.io/forecast/a1d9d1bb210da8a54ee0b0580e917c92/42.331960,-71.020173,2015-02-28T12:00:00"
       ]
      },
      {
       "output_type": "stream",
       "stream": "stdout",
       "text": [
        "\n",
        "https://api.forecast.io/forecast/a1d9d1bb210da8a54ee0b0580e917c92/42.331960,-71.020173,2015-03-01T12:00:00"
       ]
      },
      {
       "output_type": "stream",
       "stream": "stdout",
       "text": [
        "\n",
        "https://api.forecast.io/forecast/a1d9d1bb210da8a54ee0b0580e917c92/42.331960,-71.020173,2015-03-02T12:00:00"
       ]
      },
      {
       "output_type": "stream",
       "stream": "stdout",
       "text": [
        "\n",
        "https://api.forecast.io/forecast/a1d9d1bb210da8a54ee0b0580e917c92/42.331960,-71.020173,2015-03-03T12:00:00"
       ]
      },
      {
       "output_type": "stream",
       "stream": "stdout",
       "text": [
        "\n",
        "https://api.forecast.io/forecast/a1d9d1bb210da8a54ee0b0580e917c92/42.331960,-71.020173,2015-03-04T12:00:00"
       ]
      },
      {
       "output_type": "stream",
       "stream": "stdout",
       "text": [
        "\n",
        "https://api.forecast.io/forecast/a1d9d1bb210da8a54ee0b0580e917c92/42.331960,-71.020173,2015-03-05T12:00:00"
       ]
      },
      {
       "output_type": "stream",
       "stream": "stdout",
       "text": [
        "\n",
        "https://api.forecast.io/forecast/a1d9d1bb210da8a54ee0b0580e917c92/42.331960,-71.020173,2015-03-06T12:00:00"
       ]
      },
      {
       "output_type": "stream",
       "stream": "stdout",
       "text": [
        "\n",
        "https://api.forecast.io/forecast/a1d9d1bb210da8a54ee0b0580e917c92/42.331960,-71.020173,2015-03-07T12:00:00"
       ]
      },
      {
       "output_type": "stream",
       "stream": "stdout",
       "text": [
        "\n",
        "https://api.forecast.io/forecast/a1d9d1bb210da8a54ee0b0580e917c92/42.331960,-71.020173,2015-03-08T12:00:00"
       ]
      },
      {
       "output_type": "stream",
       "stream": "stdout",
       "text": [
        "\n",
        "https://api.forecast.io/forecast/a1d9d1bb210da8a54ee0b0580e917c92/42.331960,-71.020173,2015-03-09T12:00:00"
       ]
      },
      {
       "output_type": "stream",
       "stream": "stdout",
       "text": [
        "\n",
        "https://api.forecast.io/forecast/a1d9d1bb210da8a54ee0b0580e917c92/42.331960,-71.020173,2015-03-10T12:00:00"
       ]
      },
      {
       "output_type": "stream",
       "stream": "stdout",
       "text": [
        "\n",
        "https://api.forecast.io/forecast/a1d9d1bb210da8a54ee0b0580e917c92/42.331960,-71.020173,2015-03-11T12:00:00"
       ]
      },
      {
       "output_type": "stream",
       "stream": "stdout",
       "text": [
        "\n",
        "https://api.forecast.io/forecast/a1d9d1bb210da8a54ee0b0580e917c92/42.331960,-71.020173,2015-03-12T12:00:00"
       ]
      },
      {
       "output_type": "stream",
       "stream": "stdout",
       "text": [
        "\n",
        "https://api.forecast.io/forecast/a1d9d1bb210da8a54ee0b0580e917c92/42.331960,-71.020173,2015-03-13T12:00:00"
       ]
      },
      {
       "output_type": "stream",
       "stream": "stdout",
       "text": [
        "\n",
        "https://api.forecast.io/forecast/a1d9d1bb210da8a54ee0b0580e917c92/33.762909,-84.422675,2015-02-12T12:00:00"
       ]
      },
      {
       "output_type": "stream",
       "stream": "stdout",
       "text": [
        "\n",
        "https://api.forecast.io/forecast/a1d9d1bb210da8a54ee0b0580e917c92/33.762909,-84.422675,2015-02-13T12:00:00"
       ]
      },
      {
       "output_type": "stream",
       "stream": "stdout",
       "text": [
        "\n",
        "https://api.forecast.io/forecast/a1d9d1bb210da8a54ee0b0580e917c92/33.762909,-84.422675,2015-02-14T12:00:00"
       ]
      },
      {
       "output_type": "stream",
       "stream": "stdout",
       "text": [
        "\n",
        "https://api.forecast.io/forecast/a1d9d1bb210da8a54ee0b0580e917c92/33.762909,-84.422675,2015-02-15T12:00:00"
       ]
      },
      {
       "output_type": "stream",
       "stream": "stdout",
       "text": [
        "\n",
        "https://api.forecast.io/forecast/a1d9d1bb210da8a54ee0b0580e917c92/33.762909,-84.422675,2015-02-16T12:00:00"
       ]
      },
      {
       "output_type": "stream",
       "stream": "stdout",
       "text": [
        "\n",
        "https://api.forecast.io/forecast/a1d9d1bb210da8a54ee0b0580e917c92/33.762909,-84.422675,2015-02-17T12:00:00"
       ]
      },
      {
       "output_type": "stream",
       "stream": "stdout",
       "text": [
        "\n",
        "https://api.forecast.io/forecast/a1d9d1bb210da8a54ee0b0580e917c92/33.762909,-84.422675,2015-02-18T12:00:00"
       ]
      },
      {
       "output_type": "stream",
       "stream": "stdout",
       "text": [
        "\n",
        "https://api.forecast.io/forecast/a1d9d1bb210da8a54ee0b0580e917c92/33.762909,-84.422675,2015-02-19T12:00:00"
       ]
      },
      {
       "output_type": "stream",
       "stream": "stdout",
       "text": [
        "\n",
        "https://api.forecast.io/forecast/a1d9d1bb210da8a54ee0b0580e917c92/33.762909,-84.422675,2015-02-20T12:00:00"
       ]
      },
      {
       "output_type": "stream",
       "stream": "stdout",
       "text": [
        "\n",
        "https://api.forecast.io/forecast/a1d9d1bb210da8a54ee0b0580e917c92/33.762909,-84.422675,2015-02-21T12:00:00"
       ]
      },
      {
       "output_type": "stream",
       "stream": "stdout",
       "text": [
        "\n",
        "https://api.forecast.io/forecast/a1d9d1bb210da8a54ee0b0580e917c92/33.762909,-84.422675,2015-02-22T12:00:00"
       ]
      },
      {
       "output_type": "stream",
       "stream": "stdout",
       "text": [
        "\n",
        "https://api.forecast.io/forecast/a1d9d1bb210da8a54ee0b0580e917c92/33.762909,-84.422675,2015-02-23T12:00:00"
       ]
      },
      {
       "output_type": "stream",
       "stream": "stdout",
       "text": [
        "\n",
        "https://api.forecast.io/forecast/a1d9d1bb210da8a54ee0b0580e917c92/33.762909,-84.422675,2015-02-24T12:00:00"
       ]
      },
      {
       "output_type": "stream",
       "stream": "stdout",
       "text": [
        "\n",
        "https://api.forecast.io/forecast/a1d9d1bb210da8a54ee0b0580e917c92/33.762909,-84.422675,2015-02-25T12:00:00"
       ]
      },
      {
       "output_type": "stream",
       "stream": "stdout",
       "text": [
        "\n",
        "https://api.forecast.io/forecast/a1d9d1bb210da8a54ee0b0580e917c92/33.762909,-84.422675,2015-02-26T12:00:00"
       ]
      },
      {
       "output_type": "stream",
       "stream": "stdout",
       "text": [
        "\n",
        "https://api.forecast.io/forecast/a1d9d1bb210da8a54ee0b0580e917c92/33.762909,-84.422675,2015-02-27T12:00:00"
       ]
      },
      {
       "output_type": "stream",
       "stream": "stdout",
       "text": [
        "\n",
        "https://api.forecast.io/forecast/a1d9d1bb210da8a54ee0b0580e917c92/33.762909,-84.422675,2015-02-28T12:00:00"
       ]
      },
      {
       "output_type": "stream",
       "stream": "stdout",
       "text": [
        "\n",
        "https://api.forecast.io/forecast/a1d9d1bb210da8a54ee0b0580e917c92/33.762909,-84.422675,2015-03-01T12:00:00"
       ]
      },
      {
       "output_type": "stream",
       "stream": "stdout",
       "text": [
        "\n",
        "https://api.forecast.io/forecast/a1d9d1bb210da8a54ee0b0580e917c92/33.762909,-84.422675,2015-03-02T12:00:00"
       ]
      },
      {
       "output_type": "stream",
       "stream": "stdout",
       "text": [
        "\n",
        "https://api.forecast.io/forecast/a1d9d1bb210da8a54ee0b0580e917c92/33.762909,-84.422675,2015-03-03T12:00:00"
       ]
      },
      {
       "output_type": "stream",
       "stream": "stdout",
       "text": [
        "\n",
        "https://api.forecast.io/forecast/a1d9d1bb210da8a54ee0b0580e917c92/33.762909,-84.422675,2015-03-04T12:00:00"
       ]
      },
      {
       "output_type": "stream",
       "stream": "stdout",
       "text": [
        "\n",
        "https://api.forecast.io/forecast/a1d9d1bb210da8a54ee0b0580e917c92/33.762909,-84.422675,2015-03-05T12:00:00"
       ]
      },
      {
       "output_type": "stream",
       "stream": "stdout",
       "text": [
        "\n",
        "https://api.forecast.io/forecast/a1d9d1bb210da8a54ee0b0580e917c92/33.762909,-84.422675,2015-03-06T12:00:00"
       ]
      },
      {
       "output_type": "stream",
       "stream": "stdout",
       "text": [
        "\n",
        "https://api.forecast.io/forecast/a1d9d1bb210da8a54ee0b0580e917c92/33.762909,-84.422675,2015-03-07T12:00:00"
       ]
      },
      {
       "output_type": "stream",
       "stream": "stdout",
       "text": [
        "\n",
        "https://api.forecast.io/forecast/a1d9d1bb210da8a54ee0b0580e917c92/33.762909,-84.422675,2015-03-08T12:00:00"
       ]
      },
      {
       "output_type": "stream",
       "stream": "stdout",
       "text": [
        "\n",
        "https://api.forecast.io/forecast/a1d9d1bb210da8a54ee0b0580e917c92/33.762909,-84.422675,2015-03-09T12:00:00"
       ]
      },
      {
       "output_type": "stream",
       "stream": "stdout",
       "text": [
        "\n",
        "https://api.forecast.io/forecast/a1d9d1bb210da8a54ee0b0580e917c92/33.762909,-84.422675,2015-03-10T12:00:00"
       ]
      },
      {
       "output_type": "stream",
       "stream": "stdout",
       "text": [
        "\n",
        "https://api.forecast.io/forecast/a1d9d1bb210da8a54ee0b0580e917c92/33.762909,-84.422675,2015-03-11T12:00:00"
       ]
      },
      {
       "output_type": "stream",
       "stream": "stdout",
       "text": [
        "\n",
        "https://api.forecast.io/forecast/a1d9d1bb210da8a54ee0b0580e917c92/33.762909,-84.422675,2015-03-12T12:00:00"
       ]
      },
      {
       "output_type": "stream",
       "stream": "stdout",
       "text": [
        "\n",
        "https://api.forecast.io/forecast/a1d9d1bb210da8a54ee0b0580e917c92/33.762909,-84.422675,2015-03-13T12:00:00"
       ]
      },
      {
       "output_type": "stream",
       "stream": "stdout",
       "text": [
        "\n",
        "https://api.forecast.io/forecast/a1d9d1bb210da8a54ee0b0580e917c92/41.478462,-81.679435,2015-02-12T12:00:00"
       ]
      },
      {
       "output_type": "stream",
       "stream": "stdout",
       "text": [
        "\n",
        "https://api.forecast.io/forecast/a1d9d1bb210da8a54ee0b0580e917c92/41.478462,-81.679435,2015-02-13T12:00:00"
       ]
      },
      {
       "output_type": "stream",
       "stream": "stdout",
       "text": [
        "\n",
        "https://api.forecast.io/forecast/a1d9d1bb210da8a54ee0b0580e917c92/41.478462,-81.679435,2015-02-14T12:00:00"
       ]
      },
      {
       "output_type": "stream",
       "stream": "stdout",
       "text": [
        "\n",
        "https://api.forecast.io/forecast/a1d9d1bb210da8a54ee0b0580e917c92/41.478462,-81.679435,2015-02-15T12:00:00"
       ]
      },
      {
       "output_type": "stream",
       "stream": "stdout",
       "text": [
        "\n",
        "https://api.forecast.io/forecast/a1d9d1bb210da8a54ee0b0580e917c92/41.478462,-81.679435,2015-02-16T12:00:00"
       ]
      },
      {
       "output_type": "stream",
       "stream": "stdout",
       "text": [
        "\n",
        "https://api.forecast.io/forecast/a1d9d1bb210da8a54ee0b0580e917c92/41.478462,-81.679435,2015-02-17T12:00:00"
       ]
      },
      {
       "output_type": "stream",
       "stream": "stdout",
       "text": [
        "\n",
        "https://api.forecast.io/forecast/a1d9d1bb210da8a54ee0b0580e917c92/41.478462,-81.679435,2015-02-18T12:00:00"
       ]
      },
      {
       "output_type": "stream",
       "stream": "stdout",
       "text": [
        "\n",
        "https://api.forecast.io/forecast/a1d9d1bb210da8a54ee0b0580e917c92/41.478462,-81.679435,2015-02-19T12:00:00"
       ]
      },
      {
       "output_type": "stream",
       "stream": "stdout",
       "text": [
        "\n",
        "https://api.forecast.io/forecast/a1d9d1bb210da8a54ee0b0580e917c92/41.478462,-81.679435,2015-02-20T12:00:00"
       ]
      },
      {
       "output_type": "stream",
       "stream": "stdout",
       "text": [
        "\n",
        "https://api.forecast.io/forecast/a1d9d1bb210da8a54ee0b0580e917c92/41.478462,-81.679435,2015-02-21T12:00:00"
       ]
      },
      {
       "output_type": "stream",
       "stream": "stdout",
       "text": [
        "\n",
        "https://api.forecast.io/forecast/a1d9d1bb210da8a54ee0b0580e917c92/41.478462,-81.679435,2015-02-22T12:00:00"
       ]
      },
      {
       "output_type": "stream",
       "stream": "stdout",
       "text": [
        "\n",
        "https://api.forecast.io/forecast/a1d9d1bb210da8a54ee0b0580e917c92/41.478462,-81.679435,2015-02-23T12:00:00"
       ]
      },
      {
       "output_type": "stream",
       "stream": "stdout",
       "text": [
        "\n",
        "https://api.forecast.io/forecast/a1d9d1bb210da8a54ee0b0580e917c92/41.478462,-81.679435,2015-02-24T12:00:00"
       ]
      },
      {
       "output_type": "stream",
       "stream": "stdout",
       "text": [
        "\n",
        "https://api.forecast.io/forecast/a1d9d1bb210da8a54ee0b0580e917c92/41.478462,-81.679435,2015-02-25T12:00:00"
       ]
      },
      {
       "output_type": "stream",
       "stream": "stdout",
       "text": [
        "\n",
        "https://api.forecast.io/forecast/a1d9d1bb210da8a54ee0b0580e917c92/41.478462,-81.679435,2015-02-26T12:00:00"
       ]
      },
      {
       "output_type": "stream",
       "stream": "stdout",
       "text": [
        "\n",
        "https://api.forecast.io/forecast/a1d9d1bb210da8a54ee0b0580e917c92/41.478462,-81.679435,2015-02-27T12:00:00"
       ]
      },
      {
       "output_type": "stream",
       "stream": "stdout",
       "text": [
        "\n",
        "https://api.forecast.io/forecast/a1d9d1bb210da8a54ee0b0580e917c92/41.478462,-81.679435,2015-02-28T12:00:00"
       ]
      },
      {
       "output_type": "stream",
       "stream": "stdout",
       "text": [
        "\n",
        "https://api.forecast.io/forecast/a1d9d1bb210da8a54ee0b0580e917c92/41.478462,-81.679435,2015-03-01T12:00:00"
       ]
      },
      {
       "output_type": "stream",
       "stream": "stdout",
       "text": [
        "\n",
        "https://api.forecast.io/forecast/a1d9d1bb210da8a54ee0b0580e917c92/41.478462,-81.679435,2015-03-02T12:00:00"
       ]
      },
      {
       "output_type": "stream",
       "stream": "stdout",
       "text": [
        "\n",
        "https://api.forecast.io/forecast/a1d9d1bb210da8a54ee0b0580e917c92/41.478462,-81.679435,2015-03-03T12:00:00"
       ]
      },
      {
       "output_type": "stream",
       "stream": "stdout",
       "text": [
        "\n",
        "https://api.forecast.io/forecast/a1d9d1bb210da8a54ee0b0580e917c92/41.478462,-81.679435,2015-03-04T12:00:00"
       ]
      },
      {
       "output_type": "stream",
       "stream": "stdout",
       "text": [
        "\n",
        "https://api.forecast.io/forecast/a1d9d1bb210da8a54ee0b0580e917c92/41.478462,-81.679435,2015-03-05T12:00:00"
       ]
      },
      {
       "output_type": "stream",
       "stream": "stdout",
       "text": [
        "\n",
        "https://api.forecast.io/forecast/a1d9d1bb210da8a54ee0b0580e917c92/41.478462,-81.679435,2015-03-06T12:00:00"
       ]
      },
      {
       "output_type": "stream",
       "stream": "stdout",
       "text": [
        "\n",
        "https://api.forecast.io/forecast/a1d9d1bb210da8a54ee0b0580e917c92/41.478462,-81.679435,2015-03-07T12:00:00"
       ]
      },
      {
       "output_type": "stream",
       "stream": "stdout",
       "text": [
        "\n",
        "https://api.forecast.io/forecast/a1d9d1bb210da8a54ee0b0580e917c92/41.478462,-81.679435,2015-03-08T12:00:00"
       ]
      },
      {
       "output_type": "stream",
       "stream": "stdout",
       "text": [
        "\n",
        "https://api.forecast.io/forecast/a1d9d1bb210da8a54ee0b0580e917c92/41.478462,-81.679435,2015-03-09T12:00:00"
       ]
      },
      {
       "output_type": "stream",
       "stream": "stdout",
       "text": [
        "\n",
        "https://api.forecast.io/forecast/a1d9d1bb210da8a54ee0b0580e917c92/41.478462,-81.679435,2015-03-10T12:00:00"
       ]
      },
      {
       "output_type": "stream",
       "stream": "stdout",
       "text": [
        "\n",
        "https://api.forecast.io/forecast/a1d9d1bb210da8a54ee0b0580e917c92/41.478462,-81.679435,2015-03-11T12:00:00"
       ]
      },
      {
       "output_type": "stream",
       "stream": "stdout",
       "text": [
        "\n",
        "https://api.forecast.io/forecast/a1d9d1bb210da8a54ee0b0580e917c92/41.478462,-81.679435,2015-03-12T12:00:00"
       ]
      },
      {
       "output_type": "stream",
       "stream": "stdout",
       "text": [
        "\n",
        "https://api.forecast.io/forecast/a1d9d1bb210da8a54ee0b0580e917c92/41.478462,-81.679435,2015-03-13T12:00:00"
       ]
      },
      {
       "output_type": "stream",
       "stream": "stdout",
       "text": [
        "\n",
        "https://api.forecast.io/forecast/a1d9d1bb210da8a54ee0b0580e917c92/30.303936,-97.754355,2015-02-12T12:00:00"
       ]
      },
      {
       "output_type": "stream",
       "stream": "stdout",
       "text": [
        "\n",
        "https://api.forecast.io/forecast/a1d9d1bb210da8a54ee0b0580e917c92/30.303936,-97.754355,2015-02-13T12:00:00"
       ]
      },
      {
       "output_type": "stream",
       "stream": "stdout",
       "text": [
        "\n",
        "https://api.forecast.io/forecast/a1d9d1bb210da8a54ee0b0580e917c92/30.303936,-97.754355,2015-02-14T12:00:00"
       ]
      },
      {
       "output_type": "stream",
       "stream": "stdout",
       "text": [
        "\n",
        "https://api.forecast.io/forecast/a1d9d1bb210da8a54ee0b0580e917c92/30.303936,-97.754355,2015-02-15T12:00:00"
       ]
      },
      {
       "output_type": "stream",
       "stream": "stdout",
       "text": [
        "\n",
        "https://api.forecast.io/forecast/a1d9d1bb210da8a54ee0b0580e917c92/30.303936,-97.754355,2015-02-16T12:00:00"
       ]
      },
      {
       "output_type": "stream",
       "stream": "stdout",
       "text": [
        "\n",
        "https://api.forecast.io/forecast/a1d9d1bb210da8a54ee0b0580e917c92/30.303936,-97.754355,2015-02-17T12:00:00"
       ]
      },
      {
       "output_type": "stream",
       "stream": "stdout",
       "text": [
        "\n",
        "https://api.forecast.io/forecast/a1d9d1bb210da8a54ee0b0580e917c92/30.303936,-97.754355,2015-02-18T12:00:00"
       ]
      },
      {
       "output_type": "stream",
       "stream": "stdout",
       "text": [
        "\n",
        "https://api.forecast.io/forecast/a1d9d1bb210da8a54ee0b0580e917c92/30.303936,-97.754355,2015-02-19T12:00:00"
       ]
      },
      {
       "output_type": "stream",
       "stream": "stdout",
       "text": [
        "\n",
        "https://api.forecast.io/forecast/a1d9d1bb210da8a54ee0b0580e917c92/30.303936,-97.754355,2015-02-20T12:00:00"
       ]
      },
      {
       "output_type": "stream",
       "stream": "stdout",
       "text": [
        "\n",
        "https://api.forecast.io/forecast/a1d9d1bb210da8a54ee0b0580e917c92/30.303936,-97.754355,2015-02-21T12:00:00"
       ]
      },
      {
       "output_type": "stream",
       "stream": "stdout",
       "text": [
        "\n",
        "https://api.forecast.io/forecast/a1d9d1bb210da8a54ee0b0580e917c92/30.303936,-97.754355,2015-02-22T12:00:00"
       ]
      },
      {
       "output_type": "stream",
       "stream": "stdout",
       "text": [
        "\n",
        "https://api.forecast.io/forecast/a1d9d1bb210da8a54ee0b0580e917c92/30.303936,-97.754355,2015-02-23T12:00:00"
       ]
      },
      {
       "output_type": "stream",
       "stream": "stdout",
       "text": [
        "\n",
        "https://api.forecast.io/forecast/a1d9d1bb210da8a54ee0b0580e917c92/30.303936,-97.754355,2015-02-24T12:00:00"
       ]
      },
      {
       "output_type": "stream",
       "stream": "stdout",
       "text": [
        "\n",
        "https://api.forecast.io/forecast/a1d9d1bb210da8a54ee0b0580e917c92/30.303936,-97.754355,2015-02-25T12:00:00"
       ]
      },
      {
       "output_type": "stream",
       "stream": "stdout",
       "text": [
        "\n",
        "https://api.forecast.io/forecast/a1d9d1bb210da8a54ee0b0580e917c92/30.303936,-97.754355,2015-02-26T12:00:00"
       ]
      },
      {
       "output_type": "stream",
       "stream": "stdout",
       "text": [
        "\n",
        "https://api.forecast.io/forecast/a1d9d1bb210da8a54ee0b0580e917c92/30.303936,-97.754355,2015-02-27T12:00:00"
       ]
      },
      {
       "output_type": "stream",
       "stream": "stdout",
       "text": [
        "\n",
        "https://api.forecast.io/forecast/a1d9d1bb210da8a54ee0b0580e917c92/30.303936,-97.754355,2015-02-28T12:00:00"
       ]
      },
      {
       "output_type": "stream",
       "stream": "stdout",
       "text": [
        "\n",
        "https://api.forecast.io/forecast/a1d9d1bb210da8a54ee0b0580e917c92/30.303936,-97.754355,2015-03-01T12:00:00"
       ]
      },
      {
       "output_type": "stream",
       "stream": "stdout",
       "text": [
        "\n",
        "https://api.forecast.io/forecast/a1d9d1bb210da8a54ee0b0580e917c92/30.303936,-97.754355,2015-03-02T12:00:00"
       ]
      },
      {
       "output_type": "stream",
       "stream": "stdout",
       "text": [
        "\n",
        "https://api.forecast.io/forecast/a1d9d1bb210da8a54ee0b0580e917c92/30.303936,-97.754355,2015-03-03T12:00:00"
       ]
      },
      {
       "output_type": "stream",
       "stream": "stdout",
       "text": [
        "\n",
        "https://api.forecast.io/forecast/a1d9d1bb210da8a54ee0b0580e917c92/30.303936,-97.754355,2015-03-04T12:00:00"
       ]
      },
      {
       "output_type": "stream",
       "stream": "stdout",
       "text": [
        "\n",
        "https://api.forecast.io/forecast/a1d9d1bb210da8a54ee0b0580e917c92/30.303936,-97.754355,2015-03-05T12:00:00"
       ]
      },
      {
       "output_type": "stream",
       "stream": "stdout",
       "text": [
        "\n",
        "https://api.forecast.io/forecast/a1d9d1bb210da8a54ee0b0580e917c92/30.303936,-97.754355,2015-03-06T12:00:00"
       ]
      },
      {
       "output_type": "stream",
       "stream": "stdout",
       "text": [
        "\n",
        "https://api.forecast.io/forecast/a1d9d1bb210da8a54ee0b0580e917c92/30.303936,-97.754355,2015-03-07T12:00:00"
       ]
      },
      {
       "output_type": "stream",
       "stream": "stdout",
       "text": [
        "\n",
        "https://api.forecast.io/forecast/a1d9d1bb210da8a54ee0b0580e917c92/30.303936,-97.754355,2015-03-08T12:00:00"
       ]
      },
      {
       "output_type": "stream",
       "stream": "stdout",
       "text": [
        "\n",
        "https://api.forecast.io/forecast/a1d9d1bb210da8a54ee0b0580e917c92/30.303936,-97.754355,2015-03-09T12:00:00"
       ]
      },
      {
       "output_type": "stream",
       "stream": "stdout",
       "text": [
        "\n",
        "https://api.forecast.io/forecast/a1d9d1bb210da8a54ee0b0580e917c92/30.303936,-97.754355,2015-03-10T12:00:00"
       ]
      },
      {
       "output_type": "stream",
       "stream": "stdout",
       "text": [
        "\n",
        "https://api.forecast.io/forecast/a1d9d1bb210da8a54ee0b0580e917c92/30.303936,-97.754355,2015-03-11T12:00:00"
       ]
      },
      {
       "output_type": "stream",
       "stream": "stdout",
       "text": [
        "\n",
        "https://api.forecast.io/forecast/a1d9d1bb210da8a54ee0b0580e917c92/30.303936,-97.754355,2015-03-12T12:00:00"
       ]
      },
      {
       "output_type": "stream",
       "stream": "stdout",
       "text": [
        "\n",
        "https://api.forecast.io/forecast/a1d9d1bb210da8a54ee0b0580e917c92/30.303936,-97.754355,2015-03-13T12:00:00"
       ]
      },
      {
       "output_type": "stream",
       "stream": "stdout",
       "text": [
        "\n",
        "https://api.forecast.io/forecast/a1d9d1bb210da8a54ee0b0580e917c92/41.837551,-87.681844,2015-02-12T12:00:00"
       ]
      },
      {
       "output_type": "stream",
       "stream": "stdout",
       "text": [
        "\n",
        "https://api.forecast.io/forecast/a1d9d1bb210da8a54ee0b0580e917c92/41.837551,-87.681844,2015-02-13T12:00:00"
       ]
      },
      {
       "output_type": "stream",
       "stream": "stdout",
       "text": [
        "\n",
        "https://api.forecast.io/forecast/a1d9d1bb210da8a54ee0b0580e917c92/41.837551,-87.681844,2015-02-14T12:00:00"
       ]
      },
      {
       "output_type": "stream",
       "stream": "stdout",
       "text": [
        "\n",
        "https://api.forecast.io/forecast/a1d9d1bb210da8a54ee0b0580e917c92/41.837551,-87.681844,2015-02-15T12:00:00"
       ]
      },
      {
       "output_type": "stream",
       "stream": "stdout",
       "text": [
        "\n",
        "https://api.forecast.io/forecast/a1d9d1bb210da8a54ee0b0580e917c92/41.837551,-87.681844,2015-02-16T12:00:00"
       ]
      },
      {
       "output_type": "stream",
       "stream": "stdout",
       "text": [
        "\n",
        "https://api.forecast.io/forecast/a1d9d1bb210da8a54ee0b0580e917c92/41.837551,-87.681844,2015-02-17T12:00:00"
       ]
      },
      {
       "output_type": "stream",
       "stream": "stdout",
       "text": [
        "\n",
        "https://api.forecast.io/forecast/a1d9d1bb210da8a54ee0b0580e917c92/41.837551,-87.681844,2015-02-18T12:00:00"
       ]
      },
      {
       "output_type": "stream",
       "stream": "stdout",
       "text": [
        "\n",
        "https://api.forecast.io/forecast/a1d9d1bb210da8a54ee0b0580e917c92/41.837551,-87.681844,2015-02-19T12:00:00"
       ]
      },
      {
       "output_type": "stream",
       "stream": "stdout",
       "text": [
        "\n",
        "https://api.forecast.io/forecast/a1d9d1bb210da8a54ee0b0580e917c92/41.837551,-87.681844,2015-02-20T12:00:00"
       ]
      },
      {
       "output_type": "stream",
       "stream": "stdout",
       "text": [
        "\n",
        "https://api.forecast.io/forecast/a1d9d1bb210da8a54ee0b0580e917c92/41.837551,-87.681844,2015-02-21T12:00:00"
       ]
      },
      {
       "output_type": "stream",
       "stream": "stdout",
       "text": [
        "\n",
        "https://api.forecast.io/forecast/a1d9d1bb210da8a54ee0b0580e917c92/41.837551,-87.681844,2015-02-22T12:00:00"
       ]
      },
      {
       "output_type": "stream",
       "stream": "stdout",
       "text": [
        "\n",
        "https://api.forecast.io/forecast/a1d9d1bb210da8a54ee0b0580e917c92/41.837551,-87.681844,2015-02-23T12:00:00"
       ]
      },
      {
       "output_type": "stream",
       "stream": "stdout",
       "text": [
        "\n",
        "https://api.forecast.io/forecast/a1d9d1bb210da8a54ee0b0580e917c92/41.837551,-87.681844,2015-02-24T12:00:00"
       ]
      },
      {
       "output_type": "stream",
       "stream": "stdout",
       "text": [
        "\n",
        "https://api.forecast.io/forecast/a1d9d1bb210da8a54ee0b0580e917c92/41.837551,-87.681844,2015-02-25T12:00:00"
       ]
      },
      {
       "output_type": "stream",
       "stream": "stdout",
       "text": [
        "\n",
        "https://api.forecast.io/forecast/a1d9d1bb210da8a54ee0b0580e917c92/41.837551,-87.681844,2015-02-26T12:00:00"
       ]
      },
      {
       "output_type": "stream",
       "stream": "stdout",
       "text": [
        "\n",
        "https://api.forecast.io/forecast/a1d9d1bb210da8a54ee0b0580e917c92/41.837551,-87.681844,2015-02-27T12:00:00"
       ]
      },
      {
       "output_type": "stream",
       "stream": "stdout",
       "text": [
        "\n",
        "https://api.forecast.io/forecast/a1d9d1bb210da8a54ee0b0580e917c92/41.837551,-87.681844,2015-02-28T12:00:00"
       ]
      },
      {
       "output_type": "stream",
       "stream": "stdout",
       "text": [
        "\n",
        "https://api.forecast.io/forecast/a1d9d1bb210da8a54ee0b0580e917c92/41.837551,-87.681844,2015-03-01T12:00:00"
       ]
      },
      {
       "output_type": "stream",
       "stream": "stdout",
       "text": [
        "\n",
        "https://api.forecast.io/forecast/a1d9d1bb210da8a54ee0b0580e917c92/41.837551,-87.681844,2015-03-02T12:00:00"
       ]
      },
      {
       "output_type": "stream",
       "stream": "stdout",
       "text": [
        "\n",
        "https://api.forecast.io/forecast/a1d9d1bb210da8a54ee0b0580e917c92/41.837551,-87.681844,2015-03-03T12:00:00"
       ]
      },
      {
       "output_type": "stream",
       "stream": "stdout",
       "text": [
        "\n",
        "https://api.forecast.io/forecast/a1d9d1bb210da8a54ee0b0580e917c92/41.837551,-87.681844,2015-03-04T12:00:00"
       ]
      },
      {
       "output_type": "stream",
       "stream": "stdout",
       "text": [
        "\n",
        "https://api.forecast.io/forecast/a1d9d1bb210da8a54ee0b0580e917c92/41.837551,-87.681844,2015-03-05T12:00:00"
       ]
      },
      {
       "output_type": "stream",
       "stream": "stdout",
       "text": [
        "\n",
        "https://api.forecast.io/forecast/a1d9d1bb210da8a54ee0b0580e917c92/41.837551,-87.681844,2015-03-06T12:00:00"
       ]
      },
      {
       "output_type": "stream",
       "stream": "stdout",
       "text": [
        "\n",
        "https://api.forecast.io/forecast/a1d9d1bb210da8a54ee0b0580e917c92/41.837551,-87.681844,2015-03-07T12:00:00"
       ]
      },
      {
       "output_type": "stream",
       "stream": "stdout",
       "text": [
        "\n",
        "https://api.forecast.io/forecast/a1d9d1bb210da8a54ee0b0580e917c92/41.837551,-87.681844,2015-03-08T12:00:00"
       ]
      },
      {
       "output_type": "stream",
       "stream": "stdout",
       "text": [
        "\n",
        "https://api.forecast.io/forecast/a1d9d1bb210da8a54ee0b0580e917c92/41.837551,-87.681844,2015-03-09T12:00:00"
       ]
      },
      {
       "output_type": "stream",
       "stream": "stdout",
       "text": [
        "\n",
        "https://api.forecast.io/forecast/a1d9d1bb210da8a54ee0b0580e917c92/41.837551,-87.681844,2015-03-10T12:00:00"
       ]
      },
      {
       "output_type": "stream",
       "stream": "stdout",
       "text": [
        "\n",
        "https://api.forecast.io/forecast/a1d9d1bb210da8a54ee0b0580e917c92/41.837551,-87.681844,2015-03-11T12:00:00"
       ]
      },
      {
       "output_type": "stream",
       "stream": "stdout",
       "text": [
        "\n",
        "https://api.forecast.io/forecast/a1d9d1bb210da8a54ee0b0580e917c92/41.837551,-87.681844,2015-03-12T12:00:00"
       ]
      },
      {
       "output_type": "stream",
       "stream": "stdout",
       "text": [
        "\n",
        "https://api.forecast.io/forecast/a1d9d1bb210da8a54ee0b0580e917c92/41.837551,-87.681844,2015-03-13T12:00:00"
       ]
      },
      {
       "output_type": "stream",
       "stream": "stdout",
       "text": [
        "\n"
       ]
      }
     ],
     "prompt_number": 12
    },
    {
     "cell_type": "code",
     "collapsed": false,
     "input": [
      "import pandas as pd\n",
      "import sqlite3 as lite\n",
      "\n",
      "con = lite.connect('weather.db')\n",
      "cur = con.cursor()"
     ],
     "language": "python",
     "metadata": {},
     "outputs": [],
     "prompt_number": 13
    },
    {
     "cell_type": "code",
     "collapsed": false,
     "input": [
      "df = pd.read_sql_query(\"SELECT * FROM daily_temp ORDER BY day_of_reading\",con,index_col='day_of_reading')"
     ],
     "language": "python",
     "metadata": {},
     "outputs": [],
     "prompt_number": 18
    },
    {
     "cell_type": "code",
     "collapsed": false,
     "input": [
      "df.mean()\n"
     ],
     "language": "python",
     "metadata": {},
     "outputs": [
      {
       "metadata": {},
       "output_type": "pyout",
       "prompt_number": 27,
       "text": [
        "Atlanta      51.436333\n",
        "Austin       57.782333\n",
        "Boston       31.732333\n",
        "Chicago      28.551667\n",
        "Cleveland    26.877333\n",
        "dtype: float64"
       ]
      }
     ],
     "prompt_number": 27
    },
    {
     "cell_type": "code",
     "collapsed": false,
     "input": [
      "df.max()"
     ],
     "language": "python",
     "metadata": {},
     "outputs": [
      {
       "metadata": {},
       "output_type": "pyout",
       "prompt_number": 28,
       "text": [
        "Atlanta      76.45\n",
        "Austin       77.62\n",
        "Boston       55.62\n",
        "Chicago      58.94\n",
        "Cleveland    54.48\n",
        "dtype: float64"
       ]
      }
     ],
     "prompt_number": 28
    },
    {
     "cell_type": "code",
     "collapsed": false,
     "input": [
      "df.min()"
     ],
     "language": "python",
     "metadata": {},
     "outputs": [
      {
       "metadata": {},
       "output_type": "pyout",
       "prompt_number": 29,
       "text": [
        "Atlanta      26.27\n",
        "Austin       35.20\n",
        "Boston       18.24\n",
        "Chicago       5.99\n",
        "Cleveland     2.00\n",
        "dtype: float64"
       ]
      }
     ],
     "prompt_number": 29
    },
    {
     "cell_type": "code",
     "collapsed": false,
     "input": [
      "df.var()"
     ],
     "language": "python",
     "metadata": {},
     "outputs": [
      {
       "metadata": {},
       "output_type": "pyout",
       "prompt_number": 30,
       "text": [
        "Atlanta      178.750500\n",
        "Austin       157.549494\n",
        "Boston        82.283598\n",
        "Chicago      185.900787\n",
        "Cleveland    175.055055\n",
        "dtype: float64"
       ]
      }
     ],
     "prompt_number": 30
    },
    {
     "cell_type": "code",
     "collapsed": false,
     "input": [
      "df.max()-df.min()"
     ],
     "language": "python",
     "metadata": {},
     "outputs": [
      {
       "metadata": {},
       "output_type": "pyout",
       "prompt_number": 31,
       "text": [
        "Atlanta      50.18\n",
        "Austin       42.42\n",
        "Boston       37.38\n",
        "Chicago      52.95\n",
        "Cleveland    52.48\n",
        "dtype: float64"
       ]
      }
     ],
     "prompt_number": 31
    },
    {
     "cell_type": "code",
     "collapsed": false,
     "input": [
      "df.plot()"
     ],
     "language": "python",
     "metadata": {},
     "outputs": [
      {
       "metadata": {},
       "output_type": "pyout",
       "prompt_number": 32,
       "text": [
        "<matplotlib.axes._subplots.AxesSubplot at 0x10cbf6910>"
       ]
      },
      {
       "metadata": {},
       "output_type": "display_data",
       "png": "[encoded data removed]",
       "text": [
        "<matplotlib.figure.Figure at 0x10cbf6e10>"
       ]
      }
     ],
     "prompt_number": 32
    },
    {
     "cell_type": "code",
     "collapsed": false,
     "input": [
      "df['Atlanta'].plot(0)"
     ],
     "language": "python",
     "metadata": {},
     "outputs": [
      {
       "metadata": {},
       "output_type": "pyout",
       "prompt_number": 33,
       "text": [
        "<matplotlib.axes._subplots.AxesSubplot at 0x10cc8f510>"
       ]
      },
      {
       "metadata": {},
       "output_type": "display_data",
       "png": "[encoded data removed]",
       "text": [
        "<matplotlib.figure.Figure at 0x10cd39c90>"
       ]
      }
     ],
     "prompt_number": 33
    },
    {
     "cell_type": "code",
     "collapsed": false,
     "input": [
      "from pandas.tools.plotting import autocorrelation_plot"
     ],
     "language": "python",
     "metadata": {},
     "outputs": [],
     "prompt_number": 34
    },
    {
     "cell_type": "code",
     "collapsed": false,
     "input": [
      "plt.figure()"
     ],
     "language": "python",
     "metadata": {},
     "outputs": [
      {
       "metadata": {},
       "output_type": "pyout",
       "prompt_number": 35,
       "text": [
        "<matplotlib.figure.Figure at 0x10ce9dbd0>"
       ]
      },
      {
       "metadata": {},
       "output_type": "display_data",
       "text": [
        "<matplotlib.figure.Figure at 0x10ce9dbd0>"
       ]
      }
     ],
     "prompt_number": 35
    },
    {
     "cell_type": "code",
     "collapsed": false,
     "input": [
      "autocorrelation_plot(df['Atlanta'])"
     ],
     "language": "python",
     "metadata": {},
     "outputs": [
      {
       "metadata": {},
       "output_type": "pyout",
       "prompt_number": 38,
       "text": [
        "<matplotlib.axes._subplots.AxesSubplot at 0x10d07d250>"
       ]
      },
      {
       "metadata": {},
       "output_type": "display_data",
       "png": "[encoded data removed]",
       "text": [
        "<matplotlib.figure.Figure at 0x10d0f7410>"
       ]
      }
     ],
     "prompt_number": 38
    },
    {
     "cell_type": "code",
     "collapsed": false,
     "input": [
      "autocorrelation_plot(df['Austin'])"
     ],
     "language": "python",
     "metadata": {},
     "outputs": [
      {
       "metadata": {},
       "output_type": "pyout",
       "prompt_number": 39,
       "text": [
        "<matplotlib.axes._subplots.AxesSubplot at 0x10d21e150>"
       ]
      },
      {
       "metadata": {},
       "output_type": "display_data",
       "png": "[encoded data removed]",
       "text": [
        "<matplotlib.figure.Figure at 0x10d227090>"
       ]
      }
     ],
     "prompt_number": 39
    },
    {
     "cell_type": "code",
     "collapsed": false,
     "input": [
      "autocorrelation_plot(df['Boston'])"
     ],
     "language": "python",
     "metadata": {},
     "outputs": [
      {
       "metadata": {},
       "output_type": "pyout",
       "prompt_number": 40,
       "text": [
        "<matplotlib.axes._subplots.AxesSubplot at 0x10d2791d0>"
       ]
      },
      {
       "metadata": {},
       "output_type": "display_data",
       "png": "[encoded data removed]",
       "text": [
        "<matplotlib.figure.Figure at 0x10d351e90>"
       ]
      }
     ],
     "prompt_number": 40
    },
    {
     "cell_type": "code",
     "collapsed": false,
     "input": [
      "autocorrelation_plot(df['Chicago'])"
     ],
     "language": "python",
     "metadata": {},
     "outputs": [
      {
       "metadata": {},
       "output_type": "pyout",
       "prompt_number": 41,
       "text": [
        "<matplotlib.axes._subplots.AxesSubplot at 0x10d3a2e50>"
       ]
      },
      {
       "metadata": {},
       "output_type": "display_data",
       "png": "[encoded data removed]",
       "text": [
        "<matplotlib.figure.Figure at 0x10d484b10>"
       ]
      }
     ],
     "prompt_number": 41
    },
    {
     "cell_type": "code",
     "collapsed": false,
     "input": [
      "autocorrelation_plot(df['Cleveland'])"
     ],
     "language": "python",
     "metadata": {},
     "outputs": [
      {
       "metadata": {},
       "output_type": "pyout",
       "prompt_number": 42,
       "text": [
        "<matplotlib.axes._subplots.AxesSubplot at 0x10d4d4350>"
       ]
      },
      {
       "metadata": {},
       "output_type": "display_data",
       "png": "[encoded data removed]",
       "text": [
        "<matplotlib.figure.Figure at 0x10d6cf490>"
       ]
      }
     ],
     "prompt_number": 42
    },
    {
     "cell_type": "code",
     "collapsed": false,
     "input": [],
     "language": "python",
     "metadata": {},
     "outputs": []
    }
   ],
   "metadata": {}
  }
 ]
}